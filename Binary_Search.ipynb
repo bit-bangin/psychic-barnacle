{
  "nbformat": 4,
  "nbformat_minor": 0,
  "metadata": {
    "colab": {
      "provenance": [],
      "private_outputs": true,
      "authorship_tag": "ABX9TyOIFoH7LMQR/ZupyEjHGair",
      "include_colab_link": true
    },
    "kernelspec": {
      "name": "python3",
      "display_name": "Python 3"
    },
    "language_info": {
      "name": "python"
    },
    "gpuClass": "standard"
  },
  "cells": [
    {
      "cell_type": "markdown",
      "metadata": {
        "id": "view-in-github",
        "colab_type": "text"
      },
      "source": [
        "<a href=\"https://colab.research.google.com/github/bit-bangin/psychic-barnacle/blob/main/Binary_Search.ipynb\" target=\"_parent\"><img src=\"https://colab.research.google.com/assets/colab-badge.svg\" alt=\"Open In Colab\"/></a>"
      ]
    },
    {
      "cell_type": "code",
      "execution_count": null,
      "metadata": {
        "id": "NNC2V3-KPSVi"
      },
      "outputs": [],
      "source": [
        "# Linear or Sequential Search Using Python\n",
        "def search(nums, target):\n",
        "  for i in range(len(nums)):\n",
        "    if nums[i] == target:\n",
        "      return i\n",
        "  return -1\n",
        "\n",
        "if __name__ == '__main__':\n",
        "  nums = [2, 12, 15, 11, 7, 19, 45]\n",
        "  target = 7\n",
        "  print(search(nums, target))"
      ]
    },
    {
      "cell_type": "code",
      "source": [
        "# Linear or Sequential Search Using Java\n",
        "\"\"\"\n",
        "package algorithms.searching;\n",
        "\n",
        "public class LinearSearch {\n",
        "    public static void main(String[] args){\n",
        "        int[] nums = {2, 12, 15, 11, 7, 19, 45};\n",
        "        int target = 7;\n",
        "        System.out.println(search(nums, target));\n",
        "\n",
        "    }\n",
        "    \n",
        "    static int search(int[] nums, int target) {\n",
        "        for (int index = 0; index < nums.length; index++) {\n",
        "            if (nums[index] == target) {\n",
        "                return index;\n",
        "            }\n",
        "        }\n",
        "        return -1;\n",
        "    }\n",
        "}\n",
        "\"\"\""
      ],
      "metadata": {
        "id": "_20rwjrhPaag"
      },
      "execution_count": null,
      "outputs": []
    },
    {
      "cell_type": "code",
      "source": [
        "#Binary Search Implemented in Python\n",
        "\n",
        "def search(nums, target):\n",
        "  start = 0\n",
        "  end = len(nums)-1\n",
        "\n",
        "  while start <= end:\n",
        "    mid = start + (end-start)//2\n",
        "\n",
        "    if nums[mid] > target:\n",
        "      end = mid-1\n",
        "    elif nums[mid] < target:\n",
        "      start = mid+1\n",
        "    else:\n",
        "      return mid\n",
        "\n",
        "  return -1\n",
        "\n",
        "if __name__ == '__main__':\n",
        "  nums = [2, 12, 15, 17, 27, 29, 45]\n",
        "  target = 17\n",
        "  print(search(nums, target))"
      ],
      "metadata": {
        "id": "g8J_E8YtiQoQ"
      },
      "execution_count": null,
      "outputs": []
    },
    {
      "cell_type": "code",
      "source": [
        "# Binary Search Implemented in Java\n",
        "\"\"\"\n",
        "package algorithms.searching;\n",
        "\n",
        "public class BinarySearch {\n",
        "    public static void main(String[] args) {\n",
        "        int[] nums = {2, 12, 15, 17, 27, 29, 45};\n",
        "        int target = 17;\n",
        "        System.out.println(search(nums, target));\n",
        "    }\n",
        "\n",
        "    static int search(int[] nums, int target) {\n",
        "        int start = 0;\n",
        "        int end = nums.length - 1;\n",
        "\n",
        "        while (start <= end) {\n",
        "            int mid = start + (end - start) / 2;\n",
        "\n",
        "            if (nums[mid] > target)\n",
        "              end = mid - 1;\n",
        "            else if (nums[mid] < target)\n",
        "              start = mid + 1;\n",
        "            else\n",
        "              return mid;\n",
        "        }\n",
        "        return - 1;\n",
        "    }\n",
        "}\n",
        "\"\"\""
      ],
      "metadata": {
        "id": "xAogKPcakBws"
      },
      "execution_count": null,
      "outputs": []
    },
    {
      "cell_type": "code",
      "source": [
        "# Order-Agnostic Binary Search in Python\n",
        "def search(nums, target):\n",
        "  start = 0\n",
        "  end = len(nums) - 1\n",
        "\n",
        "  is_ascending = nums[start] < nums[end]\n",
        "\n",
        "  while start <= end:\n",
        "    mid = start + (end-start)//2\n",
        "\n",
        "    if target == nums[mid]:\n",
        "      return mid\n",
        "\n",
        "    if is_ascending:\n",
        "      if target < nums[mid]:\n",
        "        end = mid+1\n",
        "\n",
        "    else:\n",
        "      if target < nums[mid]:\n",
        "        start = mid+1\n",
        "      else:\n",
        "        end = mid-1\n",
        "  return -1\n",
        "\n",
        "if __name__ == '__main__':\n",
        "  nums1 = [-1, 2, 4, 6, 7, 8, 12, 15, 19, 32, 45, 67, 99]\n",
        "  nums2 = [99, 67, 45, 32, 19, 15, 12, 8, 7, 6, 4, 2, -1]\n",
        "  target = -1\n",
        "  print(search(nums1, target))\n",
        "  print(search(nums2, target))    "
      ],
      "metadata": {
        "id": "WcAwod8mAaWF"
      },
      "execution_count": null,
      "outputs": []
    },
    {
      "cell_type": "code",
      "source": [
        "# Number Guessing Problem\n",
        "## Brute Force Approach\n",
        "\"\"\"\n",
        "function bruteForceSearcher(number, array) {\n",
        "    for (let i = 0; i < array.length; i++) {\n",
        "        if (array[i] === number) {\n",
        "            return i;\n",
        "        }\n",
        "    }\n",
        "    return -1\n",
        "}\n",
        "\"\"\""
      ],
      "metadata": {
        "id": "U0-X9Sp5ApE6"
      },
      "execution_count": null,
      "outputs": []
    }
  ]
}